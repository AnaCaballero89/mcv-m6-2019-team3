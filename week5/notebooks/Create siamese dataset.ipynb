{
 "cells": [
  {
   "cell_type": "code",
   "execution_count": 2,
   "metadata": {},
   "outputs": [],
   "source": [
    "import os\n",
    "import sys\n",
    "sys.path.append(\"..\") # Adds higher directory to python modules path.\n",
    "\n",
    "import cv2\n",
    "from tqdm.auto import tqdm\n",
    "\n",
    "from utils.reading import read_annotations_from_txt\n"
   ]
  },
  {
   "cell_type": "code",
   "execution_count": 19,
   "metadata": {},
   "outputs": [],
   "source": [
    "repo_path = os.path.abspath('')\n",
    "repo_path = os.path.abspath(os.path.join(os.getcwd(),\"../..\"))\n",
    "\n",
    "dataset_path = os.path.join(repo_path, 'datasets', 'aic19-track1-mtmc-train')\n",
    "train_path = os.path.join(dataset_path, 'train')\n",
    "train_sequences = ['S01', 'S04']      # Train with S01 and S04\n",
    "test_path = os.path.join(dataset_path, 'train', 'S03')\n",
    "test_cameras = ['c010', 'c011', 'c012', 'c013', 'c014', 'c015']\n",
    "#test_cameras = ['c010']"
   ]
  },
  {
   "cell_type": "code",
   "execution_count": 4,
   "metadata": {},
   "outputs": [],
   "source": [
    "def create_folder(path):\n",
    "    if not os.path.exists(path):\n",
    "        os.makedirs(path)"
   ]
  },
  {
   "cell_type": "code",
   "execution_count": null,
   "metadata": {},
   "outputs": [
    {
     "name": "stdout",
     "output_type": "stream",
     "text": [
      "S01\n",
      "c002\n"
     ]
    },
    {
     "data": {
      "application/vnd.jupyter.widget-view+json": {
       "model_id": "d924db38c84f406481e880d0b4762430",
       "version_major": 2,
       "version_minor": 0
      },
      "text/plain": [
       "HBox(children=(IntProgress(value=0, max=2110), HTML(value='')))"
      ]
     },
     "metadata": {},
     "output_type": "display_data"
    },
    {
     "name": "stdout",
     "output_type": "stream",
     "text": [
      "c005\n"
     ]
    },
    {
     "data": {
      "application/vnd.jupyter.widget-view+json": {
       "model_id": "5d75f83ff69c4fe8bfb57671450f4ce8",
       "version_major": 2,
       "version_minor": 0
      },
      "text/plain": [
       "HBox(children=(IntProgress(value=0, max=2110), HTML(value='')))"
      ]
     },
     "metadata": {},
     "output_type": "display_data"
    },
    {
     "name": "stdout",
     "output_type": "stream",
     "text": [
      "c004\n"
     ]
    },
    {
     "data": {
      "application/vnd.jupyter.widget-view+json": {
       "model_id": "08fc11b3eb8843788796273c85779307",
       "version_major": 2,
       "version_minor": 0
      },
      "text/plain": [
       "HBox(children=(IntProgress(value=0, max=2110), HTML(value='')))"
      ]
     },
     "metadata": {},
     "output_type": "display_data"
    },
    {
     "name": "stdout",
     "output_type": "stream",
     "text": [
      "c003\n"
     ]
    },
    {
     "data": {
      "application/vnd.jupyter.widget-view+json": {
       "model_id": "f6b946858b2f4e51b75c05b0f9f3a915",
       "version_major": 2,
       "version_minor": 0
      },
      "text/plain": [
       "HBox(children=(IntProgress(value=0, max=1996), HTML(value='')))"
      ]
     },
     "metadata": {},
     "output_type": "display_data"
    },
    {
     "name": "stdout",
     "output_type": "stream",
     "text": [
      "c001\n"
     ]
    },
    {
     "data": {
      "application/vnd.jupyter.widget-view+json": {
       "model_id": "82d70c5d7fbe42f28459709044a49234",
       "version_major": 2,
       "version_minor": 0
      },
      "text/plain": [
       "HBox(children=(IntProgress(value=0, max=1955), HTML(value='')))"
      ]
     },
     "metadata": {},
     "output_type": "display_data"
    },
    {
     "name": "stdout",
     "output_type": "stream",
     "text": [
      "S04\n",
      "c033\n"
     ]
    },
    {
     "data": {
      "application/vnd.jupyter.widget-view+json": {
       "model_id": "e9eabeef14124256a95d8ed3a1ff07a5",
       "version_major": 2,
       "version_minor": 0
      },
      "text/plain": [
       "HBox(children=(IntProgress(value=0, max=350), HTML(value='')))"
      ]
     },
     "metadata": {},
     "output_type": "display_data"
    },
    {
     "name": "stdout",
     "output_type": "stream",
     "text": [
      "c034\n"
     ]
    },
    {
     "data": {
      "application/vnd.jupyter.widget-view+json": {
       "model_id": "25cea5b0b9b645ff8b584b2e8d74f668",
       "version_major": 2,
       "version_minor": 0
      },
      "text/plain": [
       "HBox(children=(IntProgress(value=0, max=410), HTML(value='')))"
      ]
     },
     "metadata": {},
     "output_type": "display_data"
    },
    {
     "name": "stdout",
     "output_type": "stream",
     "text": [
      "c035\n"
     ]
    },
    {
     "data": {
      "application/vnd.jupyter.widget-view+json": {
       "model_id": "378c183f97514c67bb64270aa9687cd1",
       "version_major": 2,
       "version_minor": 0
      },
      "text/plain": [
       "HBox(children=(IntProgress(value=0, max=210), HTML(value='')))"
      ]
     },
     "metadata": {},
     "output_type": "display_data"
    },
    {
     "name": "stdout",
     "output_type": "stream",
     "text": [
      "c032\n"
     ]
    },
    {
     "data": {
      "application/vnd.jupyter.widget-view+json": {
       "model_id": "5f69b7aae32b44dda2acfa03cc8045a9",
       "version_major": 2,
       "version_minor": 0
      },
      "text/plain": [
       "HBox(children=(IntProgress(value=0, max=625), HTML(value='')))"
      ]
     },
     "metadata": {},
     "output_type": "display_data"
    },
    {
     "name": "stdout",
     "output_type": "stream",
     "text": [
      "c017\n"
     ]
    },
    {
     "data": {
      "application/vnd.jupyter.widget-view+json": {
       "model_id": "2d4dcbfa51d343d48a8198e82cdf17f3",
       "version_major": 2,
       "version_minor": 0
      },
      "text/plain": [
       "HBox(children=(IntProgress(value=0, max=281), HTML(value='')))"
      ]
     },
     "metadata": {},
     "output_type": "display_data"
    },
    {
     "name": "stdout",
     "output_type": "stream",
     "text": [
      "c028\n"
     ]
    },
    {
     "data": {
      "application/vnd.jupyter.widget-view+json": {
       "model_id": "6a88341aa075432eade117981b09d810",
       "version_major": 2,
       "version_minor": 0
      },
      "text/plain": [
       "HBox(children=(IntProgress(value=0, max=260), HTML(value='')))"
      ]
     },
     "metadata": {},
     "output_type": "display_data"
    },
    {
     "name": "stdout",
     "output_type": "stream",
     "text": [
      "c021\n"
     ]
    },
    {
     "data": {
      "application/vnd.jupyter.widget-view+json": {
       "model_id": "d0624677130a443997a10978257e0650",
       "version_major": 2,
       "version_minor": 0
      },
      "text/plain": [
       "HBox(children=(IntProgress(value=0, max=310), HTML(value='')))"
      ]
     },
     "metadata": {},
     "output_type": "display_data"
    },
    {
     "name": "stdout",
     "output_type": "stream",
     "text": [
      "c026\n"
     ]
    },
    {
     "data": {
      "application/vnd.jupyter.widget-view+json": {
       "model_id": "8b945b98992142efa141a6cea5a0fdcf",
       "version_major": 2,
       "version_minor": 0
      },
      "text/plain": [
       "HBox(children=(IntProgress(value=0, max=710), HTML(value='')))"
      ]
     },
     "metadata": {},
     "output_type": "display_data"
    }
   ],
   "source": [
    "for sequence in train_sequences:\n",
    "    print(sequence)\n",
    "    sequence_path = os.path.join(train_path, sequence)\n",
    "    cameras = [f for f in os.listdir(sequence_path) if not f.startswith('.')]\n",
    "\n",
    "    for camera in cameras:\n",
    "        print(camera)\n",
    "        # Load video\n",
    "        video_path = os.path.join(sequence_path, camera, 'vdo.avi')\n",
    "\n",
    "        # Read groundtruth\n",
    "        gt_path = os.path.join(sequence_path, camera, 'gt', 'gt.txt')\n",
    "        groundtruth_list = read_annotations_from_txt(gt_path)\n",
    "\n",
    "        # Load frames\n",
    "        capture = cv2.VideoCapture(video_path)\n",
    "        pbar = tqdm(total=int(capture.get(cv2.CAP_PROP_FRAME_COUNT)))\n",
    "        while capture.isOpened():\n",
    "            valid, frame = capture.read()\n",
    "            if not valid:\n",
    "                break\n",
    "\n",
    "            # Load bboxes on this frame\n",
    "            gt_on_frame = [x for x in groundtruth_list if x.frame == int(capture.get(cv2.CAP_PROP_POS_FRAMES))-1]\n",
    "\n",
    "            for detection in gt_on_frame:            \n",
    "                # Check and create track_id folder\n",
    "                detection_path = os.path.join(repo_path, 'datasets', 'siamese_cars', str(detection.track_id))\n",
    "                create_folder(detection_path)\n",
    "\n",
    "                # Create crop\n",
    "                crop_image = frame[detection.bbox[1]:detection.bbox[3], detection.bbox[0]:detection.bbox[2]]\n",
    "                \n",
    "                # TODO: resize\n",
    "                \n",
    "                # Save crop in folder\n",
    "                cv2.imwrite(os.path.join(detection_path, \"{}_{}_{:04d}/{:04d}.jpg\".format(sequence, camera, detection.track_id, detection.frame)), crop_image)                \n",
    "                #cv2.imshow(\"cropped\", crop_img)\n",
    "                #cv2.waitKey(0)\n",
    "\n",
    "            pbar.update(1)\n",
    "        pbar.close()\n"
   ]
  },
  {
   "cell_type": "code",
   "execution_count": 23,
   "metadata": {},
   "outputs": [
    {
     "name": "stdout",
     "output_type": "stream",
     "text": [
      "['c002', 'c005', 'c004', 'c003', 'c001']\n",
      "['c033', 'c034', 'c035', 'c032', 'c017', 'c028', 'c021', 'c026', 'c019', 'c027', 'c018', 'c020', 'c016', 'c029', 'c037', 'c030', 'c039', 'c038', 'c031', 'c036', 'c025', 'c022', 'c040', 'c023', 'c024']\n"
     ]
    }
   ],
   "source": [
    "for sequence in train_sequences:\n",
    "    sequence_path = os.path.join(train_path, sequence)\n",
    "   "
   ]
  },
  {
   "cell_type": "code",
   "execution_count": null,
   "metadata": {},
   "outputs": [],
   "source": []
  }
 ],
 "metadata": {
  "kernelspec": {
   "display_name": "Python 3",
   "language": "python",
   "name": "python3"
  },
  "language_info": {
   "codemirror_mode": {
    "name": "ipython",
    "version": 3
   },
   "file_extension": ".py",
   "mimetype": "text/x-python",
   "name": "python",
   "nbconvert_exporter": "python",
   "pygments_lexer": "ipython3",
   "version": "3.7.2"
  }
 },
 "nbformat": 4,
 "nbformat_minor": 2
}
