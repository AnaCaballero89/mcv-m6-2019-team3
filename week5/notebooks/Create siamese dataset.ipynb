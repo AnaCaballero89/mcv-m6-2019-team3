{
 "cells": [
  {
   "cell_type": "code",
   "execution_count": 2,
   "metadata": {},
   "outputs": [],
   "source": [
    "import os\n",
    "import sys\n",
    "sys.path.append(\"..\") # Adds higher directory to python modules path.\n",
    "\n",
    "import cv2\n",
    "from tqdm.auto import tqdm\n",
    "\n",
    "from utils.reading import read_annotations_from_txt\n"
   ]
  },
  {
   "cell_type": "code",
   "execution_count": 19,
   "metadata": {},
   "outputs": [],
   "source": [
    "repo_path = os.path.abspath('')\n",
    "repo_path = os.path.abspath(os.path.join(os.getcwd(),\"../..\"))\n",
    "\n",
    "dataset_path = os.path.join(repo_path, 'datasets', 'aic19-track1-mtmc-train')\n",
    "train_path = os.path.join(dataset_path, 'train')\n",
    "train_sequences = ['S01', 'S04']      # Train with S01 and S04\n",
    "test_path = os.path.join(dataset_path, 'train', 'S03')\n",
    "test_cameras = ['c010', 'c011', 'c012', 'c013', 'c014', 'c015']\n",
    "#test_cameras = ['c010']"
   ]
  },
  {
   "cell_type": "code",
   "execution_count": 4,
   "metadata": {},
   "outputs": [],
   "source": [
    "def create_folder(path):\n",
    "    if not os.path.exists(path):\n",
    "        os.makedirs(path)"
   ]
  },
  {
   "cell_type": "code",
   "execution_count": null,
   "metadata": {},
   "outputs": [
    {
     "name": "stdout",
     "output_type": "stream",
     "text": [
      "S01\n",
      "c002\n"
     ]
    },
    {
     "data": {
      "application/vnd.jupyter.widget-view+json": {
       "model_id": "0517505d22734b67a29c05f6dde947c2",
       "version_major": 2,
       "version_minor": 0
      },
      "text/plain": [
       "HBox(children=(IntProgress(value=0, max=2110), HTML(value='')))"
      ]
     },
     "metadata": {},
     "output_type": "display_data"
    }
   ],
   "source": [
    "for sequence in train_sequences:\n",
    "    print(sequence)\n",
    "    sequence_path = os.path.join(train_path, sequence)\n",
    "    cameras = [f for f in os.listdir(sequence_path) if not f.startswith('.')]\n",
    "\n",
    "    for camera in cameras:\n",
    "        print(camera)\n",
    "        # Load video\n",
    "        video_path = os.path.join(sequence_path, camera, 'vdo.avi')\n",
    "\n",
    "        # Read groundtruth\n",
    "        gt_path = os.path.join(sequence_path, camera, 'gt', 'gt.txt')\n",
    "        groundtruth_list = read_annotations_from_txt(gt_path)\n",
    "\n",
    "        # Load frames\n",
    "        capture = cv2.VideoCapture(video_path)\n",
    "        pbar = tqdm(total=int(capture.get(cv2.CAP_PROP_FRAME_COUNT)))\n",
    "        while capture.isOpened():\n",
    "            valid, frame = capture.read()\n",
    "            if not valid:\n",
    "                break\n",
    "\n",
    "            # Load bboxes on this frame\n",
    "            gt_on_frame = [x for x in groundtruth_list if x.frame == int(capture.get(cv2.CAP_PROP_POS_FRAMES))-1]\n",
    "\n",
    "            for detection in gt_on_frame:            \n",
    "                # Check and create track_id folder\n",
    "                detection_path = os.path.join(repo_path, 'datasets', 'siamese_cars', str(detection.track_id))\n",
    "                create_folder(detection_path)\n",
    "\n",
    "                # Create crop\n",
    "                crop_image = frame[detection.bbox[1]:detection.bbox[3], detection.bbox[0]:detection.bbox[2]]\n",
    "                \n",
    "                # TODO: resize\n",
    "                \n",
    "                # Save crop in folder\n",
    "                cv2.imwrite(os.path.join(detection_path, \"{}_{}_{:04d}-{:04d}.jpg\".format(sequence, camera, detection.track_id, detection.frame)), crop_image)                \n",
    "                #cv2.imshow(\"cropped\", crop_img)\n",
    "                #cv2.waitKey(0)\n",
    "\n",
    "            pbar.update(1)\n",
    "        pbar.close()\n"
   ]
  },
  {
   "cell_type": "code",
   "execution_count": 23,
   "metadata": {},
   "outputs": [
    {
     "name": "stdout",
     "output_type": "stream",
     "text": [
      "['c002', 'c005', 'c004', 'c003', 'c001']\n",
      "['c033', 'c034', 'c035', 'c032', 'c017', 'c028', 'c021', 'c026', 'c019', 'c027', 'c018', 'c020', 'c016', 'c029', 'c037', 'c030', 'c039', 'c038', 'c031', 'c036', 'c025', 'c022', 'c040', 'c023', 'c024']\n"
     ]
    }
   ],
   "source": [
    "for sequence in train_sequences:\n",
    "    sequence_path = os.path.join(train_path, sequence)\n",
    "   "
   ]
  },
  {
   "cell_type": "code",
   "execution_count": null,
   "metadata": {},
   "outputs": [],
   "source": []
  }
 ],
 "metadata": {
  "kernelspec": {
   "display_name": "Python 3",
   "language": "python",
   "name": "python3"
  },
  "language_info": {
   "codemirror_mode": {
    "name": "ipython",
    "version": 3
   },
   "file_extension": ".py",
   "mimetype": "text/x-python",
   "name": "python",
   "nbconvert_exporter": "python",
   "pygments_lexer": "ipython3",
   "version": "3.7.2"
  }
 },
 "nbformat": 4,
 "nbformat_minor": 2
}
